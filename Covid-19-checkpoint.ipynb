{
 "cells": [
  {
   "cell_type": "code",
   "execution_count": 1,
   "id": "d60124a7",
   "metadata": {},
   "outputs": [],
   "source": [
    "import pandas as pd\n",
    "import numpy as np\n",
    "from sklearn.model_selection import train_test_split\n",
    "from sklearn.metrics import accuracy_score\n",
    "from sklearn.ensemble import RandomForestRegressor\n",
    "from sklearn.preprocessing import OneHotEncoder\n",
    "from sklearn.compose import make_column_transformer\n",
    "from sklearn.pipeline import make_pipeline\n",
    "from matplotlib import pyplot as plt"
   ]
  },
  {
   "cell_type": "code",
   "execution_count": 2,
   "id": "3bc58e73",
   "metadata": {
    "scrolled": true
   },
   "outputs": [
    {
     "data": {
      "text/html": [
       "<div>\n",
       "<style scoped>\n",
       "    .dataframe tbody tr th:only-of-type {\n",
       "        vertical-align: middle;\n",
       "    }\n",
       "\n",
       "    .dataframe tbody tr th {\n",
       "        vertical-align: top;\n",
       "    }\n",
       "\n",
       "    .dataframe thead th {\n",
       "        text-align: right;\n",
       "    }\n",
       "</style>\n",
       "<table border=\"1\" class=\"dataframe\">\n",
       "  <thead>\n",
       "    <tr style=\"text-align: right;\">\n",
       "      <th></th>\n",
       "      <th>_id</th>\n",
       "      <th>date</th>\n",
       "      <th>age_group</th>\n",
       "      <th>deaths_boost_vac_rate_7ma</th>\n",
       "      <th>deaths_full_vac_rate_7ma</th>\n",
       "      <th>deaths_not_full_vac_rate_7ma</th>\n",
       "    </tr>\n",
       "  </thead>\n",
       "  <tbody>\n",
       "    <tr>\n",
       "      <th>0</th>\n",
       "      <td>1</td>\n",
       "      <td>2021-03-01T00:00:00</td>\n",
       "      <td>0-4yrs</td>\n",
       "      <td>0.00</td>\n",
       "      <td>0.00</td>\n",
       "      <td>0.00</td>\n",
       "    </tr>\n",
       "    <tr>\n",
       "      <th>1</th>\n",
       "      <td>2</td>\n",
       "      <td>2021-03-01T00:00:00</td>\n",
       "      <td>5-11yrs</td>\n",
       "      <td>0.00</td>\n",
       "      <td>0.00</td>\n",
       "      <td>0.00</td>\n",
       "    </tr>\n",
       "    <tr>\n",
       "      <th>2</th>\n",
       "      <td>3</td>\n",
       "      <td>2021-03-01T00:00:00</td>\n",
       "      <td>12-17yrs</td>\n",
       "      <td>0.00</td>\n",
       "      <td>0.00</td>\n",
       "      <td>0.00</td>\n",
       "    </tr>\n",
       "    <tr>\n",
       "      <th>3</th>\n",
       "      <td>4</td>\n",
       "      <td>2021-03-01T00:00:00</td>\n",
       "      <td>18-39yrs</td>\n",
       "      <td>0.00</td>\n",
       "      <td>0.00</td>\n",
       "      <td>0.00</td>\n",
       "    </tr>\n",
       "    <tr>\n",
       "      <th>4</th>\n",
       "      <td>5</td>\n",
       "      <td>2021-03-01T00:00:00</td>\n",
       "      <td>40-59yrs</td>\n",
       "      <td>0.00</td>\n",
       "      <td>0.00</td>\n",
       "      <td>0.02</td>\n",
       "    </tr>\n",
       "    <tr>\n",
       "      <th>...</th>\n",
       "      <td>...</td>\n",
       "      <td>...</td>\n",
       "      <td>...</td>\n",
       "      <td>...</td>\n",
       "      <td>...</td>\n",
       "      <td>...</td>\n",
       "    </tr>\n",
       "    <tr>\n",
       "      <th>3502</th>\n",
       "      <td>3503</td>\n",
       "      <td>2022-07-14T00:00:00</td>\n",
       "      <td>12-17yrs</td>\n",
       "      <td>0.00</td>\n",
       "      <td>0.00</td>\n",
       "      <td>0.00</td>\n",
       "    </tr>\n",
       "    <tr>\n",
       "      <th>3503</th>\n",
       "      <td>3504</td>\n",
       "      <td>2022-07-14T00:00:00</td>\n",
       "      <td>18-39yrs</td>\n",
       "      <td>0.00</td>\n",
       "      <td>0.00</td>\n",
       "      <td>0.00</td>\n",
       "    </tr>\n",
       "    <tr>\n",
       "      <th>3504</th>\n",
       "      <td>3505</td>\n",
       "      <td>2022-07-14T00:00:00</td>\n",
       "      <td>40-59yrs</td>\n",
       "      <td>0.01</td>\n",
       "      <td>0.00</td>\n",
       "      <td>0.03</td>\n",
       "    </tr>\n",
       "    <tr>\n",
       "      <th>3505</th>\n",
       "      <td>3506</td>\n",
       "      <td>2022-07-14T00:00:00</td>\n",
       "      <td>60+</td>\n",
       "      <td>0.05</td>\n",
       "      <td>0.08</td>\n",
       "      <td>0.22</td>\n",
       "    </tr>\n",
       "    <tr>\n",
       "      <th>3506</th>\n",
       "      <td>3507</td>\n",
       "      <td>2022-07-14T00:00:00</td>\n",
       "      <td>ALL</td>\n",
       "      <td>0.02</td>\n",
       "      <td>0.01</td>\n",
       "      <td>0.02</td>\n",
       "    </tr>\n",
       "  </tbody>\n",
       "</table>\n",
       "<p>3507 rows × 6 columns</p>\n",
       "</div>"
      ],
      "text/plain": [
       "       _id                 date age_group  deaths_boost_vac_rate_7ma  \\\n",
       "0        1  2021-03-01T00:00:00    0-4yrs                       0.00   \n",
       "1        2  2021-03-01T00:00:00   5-11yrs                       0.00   \n",
       "2        3  2021-03-01T00:00:00  12-17yrs                       0.00   \n",
       "3        4  2021-03-01T00:00:00  18-39yrs                       0.00   \n",
       "4        5  2021-03-01T00:00:00  40-59yrs                       0.00   \n",
       "...    ...                  ...       ...                        ...   \n",
       "3502  3503  2022-07-14T00:00:00  12-17yrs                       0.00   \n",
       "3503  3504  2022-07-14T00:00:00  18-39yrs                       0.00   \n",
       "3504  3505  2022-07-14T00:00:00  40-59yrs                       0.01   \n",
       "3505  3506  2022-07-14T00:00:00       60+                       0.05   \n",
       "3506  3507  2022-07-14T00:00:00       ALL                       0.02   \n",
       "\n",
       "      deaths_full_vac_rate_7ma  deaths_not_full_vac_rate_7ma  \n",
       "0                         0.00                          0.00  \n",
       "1                         0.00                          0.00  \n",
       "2                         0.00                          0.00  \n",
       "3                         0.00                          0.00  \n",
       "4                         0.00                          0.02  \n",
       "...                        ...                           ...  \n",
       "3502                      0.00                          0.00  \n",
       "3503                      0.00                          0.00  \n",
       "3504                      0.00                          0.03  \n",
       "3505                      0.08                          0.22  \n",
       "3506                      0.01                          0.02  \n",
       "\n",
       "[3507 rows x 6 columns]"
      ]
     },
     "execution_count": 2,
     "metadata": {},
     "output_type": "execute_result"
    }
   ],
   "source": [
    "# turn csv into pandas dataframe\n",
    "csv_file = pd.read_csv(\"Covid-19 Dataset.csv\")\n",
    "csv_file"
   ]
  },
  {
   "cell_type": "code",
   "execution_count": null,
   "id": "b9977c43",
   "metadata": {},
   "outputs": [],
   "source": [
    "# Model which predicts covid deaths per 100k over a 7 day moving average given tge age group and vaccination status"
   ]
  },
  {
   "cell_type": "code",
   "execution_count": 4,
   "id": "33c7998c",
   "metadata": {
    "scrolled": true
   },
   "outputs": [
    {
     "data": {
      "text/html": [
       "<div>\n",
       "<style scoped>\n",
       "    .dataframe tbody tr th:only-of-type {\n",
       "        vertical-align: middle;\n",
       "    }\n",
       "\n",
       "    .dataframe tbody tr th {\n",
       "        vertical-align: top;\n",
       "    }\n",
       "\n",
       "    .dataframe thead th {\n",
       "        text-align: right;\n",
       "    }\n",
       "</style>\n",
       "<table border=\"1\" class=\"dataframe\">\n",
       "  <thead>\n",
       "    <tr style=\"text-align: right;\">\n",
       "      <th></th>\n",
       "      <th>age_group</th>\n",
       "      <th>vax_status</th>\n",
       "      <th>death_7ma_per100k</th>\n",
       "      <th>prev_day_death</th>\n",
       "    </tr>\n",
       "  </thead>\n",
       "  <tbody>\n",
       "    <tr>\n",
       "      <th>0</th>\n",
       "      <td>0-4yrs</td>\n",
       "      <td>0</td>\n",
       "      <td>0.00</td>\n",
       "      <td>0.00</td>\n",
       "    </tr>\n",
       "    <tr>\n",
       "      <th>1</th>\n",
       "      <td>0-4yrs</td>\n",
       "      <td>1</td>\n",
       "      <td>0.00</td>\n",
       "      <td>0.00</td>\n",
       "    </tr>\n",
       "    <tr>\n",
       "      <th>2</th>\n",
       "      <td>0-4yrs</td>\n",
       "      <td>2</td>\n",
       "      <td>0.00</td>\n",
       "      <td>0.00</td>\n",
       "    </tr>\n",
       "    <tr>\n",
       "      <th>3</th>\n",
       "      <td>5-11yrs</td>\n",
       "      <td>0</td>\n",
       "      <td>0.00</td>\n",
       "      <td>0.00</td>\n",
       "    </tr>\n",
       "    <tr>\n",
       "      <th>4</th>\n",
       "      <td>5-11yrs</td>\n",
       "      <td>1</td>\n",
       "      <td>0.00</td>\n",
       "      <td>0.00</td>\n",
       "    </tr>\n",
       "    <tr>\n",
       "      <th>...</th>\n",
       "      <td>...</td>\n",
       "      <td>...</td>\n",
       "      <td>...</td>\n",
       "      <td>...</td>\n",
       "    </tr>\n",
       "    <tr>\n",
       "      <th>8995</th>\n",
       "      <td>40-59yrs</td>\n",
       "      <td>1</td>\n",
       "      <td>0.00</td>\n",
       "      <td>0.08</td>\n",
       "    </tr>\n",
       "    <tr>\n",
       "      <th>8996</th>\n",
       "      <td>40-59yrs</td>\n",
       "      <td>2</td>\n",
       "      <td>0.01</td>\n",
       "      <td>0.05</td>\n",
       "    </tr>\n",
       "    <tr>\n",
       "      <th>8997</th>\n",
       "      <td>60+</td>\n",
       "      <td>0</td>\n",
       "      <td>0.22</td>\n",
       "      <td>0.01</td>\n",
       "    </tr>\n",
       "    <tr>\n",
       "      <th>8998</th>\n",
       "      <td>60+</td>\n",
       "      <td>1</td>\n",
       "      <td>0.08</td>\n",
       "      <td>0.01</td>\n",
       "    </tr>\n",
       "    <tr>\n",
       "      <th>8999</th>\n",
       "      <td>60+</td>\n",
       "      <td>2</td>\n",
       "      <td>0.05</td>\n",
       "      <td>0.02</td>\n",
       "    </tr>\n",
       "  </tbody>\n",
       "</table>\n",
       "<p>9000 rows × 4 columns</p>\n",
       "</div>"
      ],
      "text/plain": [
       "     age_group  vax_status  death_7ma_per100k  prev_day_death\n",
       "0       0-4yrs           0               0.00            0.00\n",
       "1       0-4yrs           1               0.00            0.00\n",
       "2       0-4yrs           2               0.00            0.00\n",
       "3      5-11yrs           0               0.00            0.00\n",
       "4      5-11yrs           1               0.00            0.00\n",
       "...        ...         ...                ...             ...\n",
       "8995  40-59yrs           1               0.00            0.08\n",
       "8996  40-59yrs           2               0.01            0.05\n",
       "8997       60+           0               0.22            0.01\n",
       "8998       60+           1               0.08            0.01\n",
       "8999       60+           2               0.05            0.02\n",
       "\n",
       "[9000 rows x 4 columns]"
      ]
     },
     "execution_count": 4,
     "metadata": {},
     "output_type": "execute_result"
    }
   ],
   "source": [
    "# transform dataset into the correct format\n",
    "dataset = {\"age_group\": [], \"vax_status\": [], \"death_7ma_per100k\": [], \"prev_day_death\": []}\n",
    "age_seperation = 6\n",
    "\n",
    "for index, row in csv_file.iterrows():\n",
    "    if index >= age_seperation:\n",
    "        if csv_file.at[index, \"age_group\"] != \"ALL\":\n",
    "            for i in range(3):\n",
    "                dataset[\"age_group\"].append(csv_file.at[index, \"age_group\"])\n",
    "                dataset[\"vax_status\"].append(i)\n",
    "\n",
    "            dataset[\"death_7ma_per100k\"].append(csv_file.at[index, \"deaths_not_full_vac_rate_7ma\"])\n",
    "            dataset[\"death_7ma_per100k\"].append(csv_file.at[index, \"deaths_full_vac_rate_7ma\"])\n",
    "            dataset[\"death_7ma_per100k\"].append(csv_file.at[index, \"deaths_boost_vac_rate_7ma\"])\n",
    "            \n",
    "            dataset[\"prev_day_death\"].append(csv_file.at[index - age_seperation, \"deaths_not_full_vac_rate_7ma\"])\n",
    "            dataset[\"prev_day_death\"].append(csv_file.at[index - age_seperation, \"deaths_full_vac_rate_7ma\"])\n",
    "            dataset[\"prev_day_death\"].append(csv_file.at[index - age_seperation, \"deaths_boost_vac_rate_7ma\"])\n",
    "    \n",
    "all_data = pd.DataFrame(dataset, columns=[\"age_group\", \"vax_status\", \"death_7ma_per100k\", \"prev_day_death\"])\n",
    "all_data"
   ]
  },
  {
   "cell_type": "code",
   "execution_count": null,
   "id": "94479bab",
   "metadata": {},
   "outputs": [],
   "source": [
    "# get correlation of data"
   ]
  },
  {
   "cell_type": "code",
   "execution_count": 5,
   "id": "d521d666",
   "metadata": {},
   "outputs": [
    {
     "data": {
      "text/html": [
       "<div>\n",
       "<style scoped>\n",
       "    .dataframe tbody tr th:only-of-type {\n",
       "        vertical-align: middle;\n",
       "    }\n",
       "\n",
       "    .dataframe tbody tr th {\n",
       "        vertical-align: top;\n",
       "    }\n",
       "\n",
       "    .dataframe thead th {\n",
       "        text-align: right;\n",
       "    }\n",
       "</style>\n",
       "<table border=\"1\" class=\"dataframe\">\n",
       "  <thead>\n",
       "    <tr style=\"text-align: right;\">\n",
       "      <th></th>\n",
       "      <th>vax_status</th>\n",
       "      <th>death_7ma_per100k</th>\n",
       "      <th>prev_day_death</th>\n",
       "    </tr>\n",
       "  </thead>\n",
       "  <tbody>\n",
       "    <tr>\n",
       "      <th>vax_status</th>\n",
       "      <td>1.000000</td>\n",
       "      <td>-0.157107</td>\n",
       "      <td>-0.162498</td>\n",
       "    </tr>\n",
       "    <tr>\n",
       "      <th>death_7ma_per100k</th>\n",
       "      <td>-0.157107</td>\n",
       "      <td>1.000000</td>\n",
       "      <td>0.057244</td>\n",
       "    </tr>\n",
       "    <tr>\n",
       "      <th>prev_day_death</th>\n",
       "      <td>-0.162498</td>\n",
       "      <td>0.057244</td>\n",
       "      <td>1.000000</td>\n",
       "    </tr>\n",
       "  </tbody>\n",
       "</table>\n",
       "</div>"
      ],
      "text/plain": [
       "                   vax_status  death_7ma_per100k  prev_day_death\n",
       "vax_status           1.000000          -0.157107       -0.162498\n",
       "death_7ma_per100k   -0.157107           1.000000        0.057244\n",
       "prev_day_death      -0.162498           0.057244        1.000000"
      ]
     },
     "execution_count": 5,
     "metadata": {},
     "output_type": "execute_result"
    }
   ],
   "source": [
    "all_data.corr()"
   ]
  },
  {
   "cell_type": "code",
   "execution_count": 7,
   "id": "5ba7ced8",
   "metadata": {},
   "outputs": [
    {
     "data": {
      "image/png": "[encoded data removed]",
      "text/plain": [
       "<Figure size 432x288 with 1 Axes>"
      ]
     },
     "metadata": {
      "needs_background": "light"
     },
     "output_type": "display_data"
    }
   ],
   "source": [
    "all_data.plot(x=\"vax_status\", y=\"death_7ma_per100k\", kind=\"scatter\")\n",
    "plt.show()"
   ]
  },
  {
   "cell_type": "code",
   "execution_count": 8,
   "id": "5d90c2ca",
   "metadata": {},
   "outputs": [
    {
     "data": {
      "image/png": "[encoded data removed]",
      "text/plain": [
       "<Figure size 432x288 with 1 Axes>"
      ]
     },
     "metadata": {
      "needs_background": "light"
     },
     "output_type": "display_data"
    }
   ],
   "source": [
    "all_data.plot(x=\"prev_day_death\", y=\"death_7ma_per100k\", kind=\"scatter\")\n",
    "plt.show()"
   ]
  },
  {
   "cell_type": "code",
   "execution_count": 18,
   "id": "70bbbcd7",
   "metadata": {},
   "outputs": [
    {
     "data": {
      "text/plain": [
       "0.9283049592572042"
      ]
     },
     "execution_count": 18,
     "metadata": {},
     "output_type": "execute_result"
    }
   ],
   "source": [
    "# train data\n",
    "X = all_data.drop(columns=[\"death_7ma_per100k\"])\n",
    "y = all_data.drop(columns=[\"age_group\", \"vax_status\", \"prev_day_death\"])\n",
    "X_train, X_test, y_train, y_test = train_test_split(X, y, test_size=0.2, random_state=1)\n",
    "\n",
    "ohe = OneHotEncoder()\n",
    "ct = make_column_transformer((ohe, [\"age_group\", \"vax_status\"]), remainder=\"passthrough\")\n",
    "\n",
    "model = make_pipeline(ct, RandomForestRegressor())\n",
    "\n",
    "model.fit(X_train, y_train.values.ravel())\n",
    "\n",
    "\n",
    "# test accuracy of model\n",
    "acc_score = model.score(X_test, y_test.values.ravel())\n",
    "acc_score"
   ]
  },
  {
   "cell_type": "code",
   "execution_count": 15,
   "id": "543fbbed",
   "metadata": {},
   "outputs": [
    {
     "data": {
      "text/plain": [
       "array([1.45249000e+01, 8.57485978e-05, 0.00000000e+00])"
      ]
     },
     "execution_count": 15,
     "metadata": {},
     "output_type": "execute_result"
    }
   ],
   "source": [
    "test = pd.DataFrame({\"age_group\": [\"60+\", \"40-59yrs\", \"0-4yrs\"], \"vax_status\": [2, 2, 2], \"prev_day_death\": [1.2, 0.02, 0]})\n",
    "model.predict(test)"
   ]
  },
  {
   "cell_type": "code",
   "execution_count": null,
   "id": "d77a9abc",
   "metadata": {},
   "outputs": [],
   "source": []
  }
 ],
 "metadata": {
  "kernelspec": {
   "display_name": "Python 3 (ipykernel)",
   "language": "python",
   "name": "python3"
  },
  "language_info": {
   "codemirror_mode": {
    "name": "ipython",
    "version": 3
   },
   "file_extension": ".py",
   "mimetype": "text/x-python",
   "name": "python",
   "nbconvert_exporter": "python",
   "pygments_lexer": "ipython3",
   "version": "3.9.12"
  }
 },
 "nbformat": 4,
 "nbformat_minor": 5
}
